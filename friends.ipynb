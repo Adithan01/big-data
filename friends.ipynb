{
 "cells": [
  {
   "cell_type": "code",
   "execution_count": 1,
   "id": "6b133b21-fe11-4eb8-88c5-17e016dbe66c",
   "metadata": {},
   "outputs": [],
   "source": [
    "import pandas as pd"
   ]
  },
  {
   "cell_type": "code",
   "execution_count": 2,
   "id": "09e40251-f6e6-43b0-8f58-2b13ac20e71e",
   "metadata": {},
   "outputs": [
    {
     "data": {
      "text/plain": [
       "'/home/adithan'"
      ]
     },
     "execution_count": 2,
     "metadata": {},
     "output_type": "execute_result"
    }
   ],
   "source": []
  },
  {
   "cell_type": "code",
   "execution_count": 4,
   "id": "7dded583-3aac-4d50-997f-6f13ccf8db4a",
   "metadata": {},
   "outputs": [],
   "source": [
    "fdf = pd.read_csv('file:///home/adithan/friends_test.csv')"
   ]
  },
  {
   "cell_type": "code",
   "execution_count": 5,
   "id": "77ec6f7b-8b0d-4ae0-98eb-7e8601efe9bf",
   "metadata": {},
   "outputs": [
    {
     "data": {
      "text/html": [
       "<div>\n",
       "<style scoped>\n",
       "    .dataframe tbody tr th:only-of-type {\n",
       "        vertical-align: middle;\n",
       "    }\n",
       "\n",
       "    .dataframe tbody tr th {\n",
       "        vertical-align: top;\n",
       "    }\n",
       "\n",
       "    .dataframe thead th {\n",
       "        text-align: right;\n",
       "    }\n",
       "</style>\n",
       "<table border=\"1\" class=\"dataframe\">\n",
       "  <thead>\n",
       "    <tr style=\"text-align: right;\">\n",
       "      <th></th>\n",
       "      <th>0</th>\n",
       "      <th>Will</th>\n",
       "      <th>33</th>\n",
       "      <th>385</th>\n",
       "    </tr>\n",
       "  </thead>\n",
       "  <tbody>\n",
       "    <tr>\n",
       "      <th>0</th>\n",
       "      <td>1</td>\n",
       "      <td>Jean-Luc</td>\n",
       "      <td>26</td>\n",
       "      <td>2</td>\n",
       "    </tr>\n",
       "    <tr>\n",
       "      <th>1</th>\n",
       "      <td>2</td>\n",
       "      <td>Hugh</td>\n",
       "      <td>55</td>\n",
       "      <td>221</td>\n",
       "    </tr>\n",
       "    <tr>\n",
       "      <th>2</th>\n",
       "      <td>3</td>\n",
       "      <td>Deanna</td>\n",
       "      <td>40</td>\n",
       "      <td>465</td>\n",
       "    </tr>\n",
       "    <tr>\n",
       "      <th>3</th>\n",
       "      <td>4</td>\n",
       "      <td>Quark</td>\n",
       "      <td>68</td>\n",
       "      <td>21</td>\n",
       "    </tr>\n",
       "    <tr>\n",
       "      <th>4</th>\n",
       "      <td>5</td>\n",
       "      <td>Weyoun</td>\n",
       "      <td>59</td>\n",
       "      <td>318</td>\n",
       "    </tr>\n",
       "  </tbody>\n",
       "</table>\n",
       "</div>"
      ],
      "text/plain": [
       "   0      Will  33  385\n",
       "0  1  Jean-Luc  26    2\n",
       "1  2      Hugh  55  221\n",
       "2  3    Deanna  40  465\n",
       "3  4     Quark  68   21\n",
       "4  5    Weyoun  59  318"
      ]
     },
     "execution_count": 5,
     "metadata": {},
     "output_type": "execute_result"
    }
   ],
   "source": [
    "fdf.head(5)"
   ]
  },
  {
   "cell_type": "code",
   "execution_count": 6,
   "id": "2ed619cf-3f57-472a-b5c4-7cf4e4f90f1b",
   "metadata": {},
   "outputs": [
    {
     "name": "stderr",
     "output_type": "stream",
     "text": [
      "24/11/04 09:16:37 WARN Utils: Your hostname, ADITHAN-MSI-M14B11SBU resolves to a loopback address: 127.0.1.1; using 10.255.255.254 instead (on interface lo)\n",
      "24/11/04 09:16:37 WARN Utils: Set SPARK_LOCAL_IP if you need to bind to another address\n",
      "Setting default log level to \"WARN\".\n",
      "To adjust logging level use sc.setLogLevel(newLevel). For SparkR, use setLogLevel(newLevel).\n",
      "24/11/04 09:16:40 WARN NativeCodeLoader: Unable to load native-hadoop library for your platform... using builtin-java classes where applicable\n"
     ]
    }
   ],
   "source": [
    "from pyspark.sql import SparkSession\n",
    "from pyspark.sql.types import StructType, StructField, IntegerType, StringType\n",
    "\n",
    "# Initialize Spark Session\n",
    "spark = SparkSession.builder.appName(\"Friends Analysis\").getOrCreate()\n",
    "\n",
    "# Define schema for the DataFrame\n",
    "schema = StructType([\n",
    "    StructField(\"ID\", IntegerType(), True),\n",
    "    StructField(\"Name\", StringType(), True),\n",
    "    StructField(\"Age\", IntegerType(), True),\n",
    "    StructField(\"NumFriends\", IntegerType(), True)\n",
    "])\n"
   ]
  },
  {
   "cell_type": "code",
   "execution_count": 7,
   "id": "5498a87c-ae82-4131-bbdd-94a002c50e35",
   "metadata": {},
   "outputs": [],
   "source": [
    "file_path = \"file:///home/adithan/friends_test.csv\"  # Update with your actual file path\n",
    "friends_df = spark.read.csv(file_path, schema=schema, header=False)"
   ]
  },
  {
   "cell_type": "code",
   "execution_count": 8,
   "id": "8b199f19-027d-4c67-bdf6-6eaa2b17456a",
   "metadata": {},
   "outputs": [],
   "source": [
    "# Convert to RDD with (age, (num_friends, 1)) pairs\n",
    "age_friends_rdd = friends_df.rdd.map(lambda row: (row[\"Age\"], (row[\"NumFriends\"], 1)))\n",
    "\n",
    "# Calculate the sum of friends and count for each age using reduceByKey\n",
    "age_friends_totals = age_friends_rdd.reduceByKey(lambda a, b: (a[0] + b[0], a[1] + b[1]))\n",
    "\n",
    "# Calculate the average by dividing the sum by the count\n",
    "average_friends_by_age = age_friends_totals.mapValues(lambda total_count: total_count[0] / total_count[1])"
   ]
  },
  {
   "cell_type": "code",
   "execution_count": 9,
   "id": "1d38a3ec-082b-409a-ab76-b97f6b1fbc30",
   "metadata": {},
   "outputs": [
    {
     "name": "stderr",
     "output_type": "stream",
     "text": [
      "[Stage 0:>                                                          (0 + 1) / 1]\r"
     ]
    },
    {
     "name": "stdout",
     "output_type": "stream",
     "text": [
      "Age: 33, Average Friends: 325.3333333333333\n",
      "Age: 26, Average Friends: 242.05882352941177\n",
      "Age: 55, Average Friends: 295.53846153846155\n",
      "Age: 40, Average Friends: 250.8235294117647\n",
      "Age: 68, Average Friends: 269.6\n",
      "Age: 59, Average Friends: 220.0\n",
      "Age: 37, Average Friends: 249.33333333333334\n",
      "Age: 54, Average Friends: 278.0769230769231\n",
      "Age: 38, Average Friends: 193.53333333333333\n",
      "Age: 27, Average Friends: 228.125\n",
      "Age: 53, Average Friends: 222.85714285714286\n",
      "Age: 57, Average Friends: 258.8333333333333\n",
      "Age: 56, Average Friends: 306.6666666666667\n",
      "Age: 43, Average Friends: 230.57142857142858\n",
      "Age: 36, Average Friends: 246.6\n",
      "Age: 22, Average Friends: 206.42857142857142\n",
      "Age: 35, Average Friends: 211.625\n",
      "Age: 45, Average Friends: 309.53846153846155\n",
      "Age: 60, Average Friends: 202.71428571428572\n",
      "Age: 67, Average Friends: 214.625\n",
      "Age: 19, Average Friends: 213.27272727272728\n",
      "Age: 30, Average Friends: 235.8181818181818\n",
      "Age: 51, Average Friends: 302.14285714285717\n",
      "Age: 25, Average Friends: 197.45454545454547\n",
      "Age: 21, Average Friends: 350.875\n",
      "Age: 42, Average Friends: 303.5\n",
      "Age: 49, Average Friends: 184.66666666666666\n",
      "Age: 48, Average Friends: 281.4\n",
      "Age: 50, Average Friends: 254.6\n",
      "Age: 39, Average Friends: 169.28571428571428\n",
      "Age: 32, Average Friends: 207.9090909090909\n",
      "Age: 58, Average Friends: 116.54545454545455\n",
      "Age: 64, Average Friends: 281.3333333333333\n",
      "Age: 31, Average Friends: 267.25\n",
      "Age: 52, Average Friends: 340.6363636363636\n",
      "Age: 24, Average Friends: 233.8\n",
      "Age: 20, Average Friends: 165.0\n",
      "Age: 62, Average Friends: 220.76923076923077\n",
      "Age: 41, Average Friends: 268.55555555555554\n",
      "Age: 44, Average Friends: 282.1666666666667\n",
      "Age: 69, Average Friends: 235.2\n",
      "Age: 65, Average Friends: 298.2\n",
      "Age: 61, Average Friends: 256.22222222222223\n",
      "Age: 28, Average Friends: 209.1\n",
      "Age: 66, Average Friends: 276.44444444444446\n",
      "Age: 46, Average Friends: 223.69230769230768\n",
      "Age: 29, Average Friends: 215.91666666666666\n",
      "Age: 18, Average Friends: 343.375\n",
      "Age: 47, Average Friends: 233.22222222222223\n",
      "Age: 34, Average Friends: 245.5\n",
      "Age: 63, Average Friends: 384.0\n",
      "Age: 23, Average Friends: 246.3\n"
     ]
    },
    {
     "name": "stderr",
     "output_type": "stream",
     "text": [
      "                                                                                \r"
     ]
    }
   ],
   "source": [
    "# Collect and print the result\n",
    "result = average_friends_by_age.collect()\n",
    "for age, avg_friends in result:\n",
    "    print(f\"Age: {age}, Average Friends: {avg_friends}\")\n"
   ]
  },
  {
   "cell_type": "code",
   "execution_count": 10,
   "id": "4508d8d1-6dee-41af-b8b9-93dfa4e68f6e",
   "metadata": {},
   "outputs": [],
   "source": [
    "# Stop Spark session\n",
    "spark.stop()"
   ]
  },
  {
   "cell_type": "code",
   "execution_count": null,
   "id": "7f4443f7-bf85-4182-a4d9-daa923333b73",
   "metadata": {},
   "outputs": [],
   "source": []
  }
 ],
 "metadata": {
  "kernelspec": {
   "display_name": "Python 3 (ipykernel)",
   "language": "python",
   "name": "python3"
  },
  "language_info": {
   "codemirror_mode": {
    "name": "ipython",
    "version": 3
   },
   "file_extension": ".py",
   "mimetype": "text/x-python",
   "name": "python",
   "nbconvert_exporter": "python",
   "pygments_lexer": "ipython3",
   "version": "3.10.12"
  }
 },
 "nbformat": 4,
 "nbformat_minor": 5
}
